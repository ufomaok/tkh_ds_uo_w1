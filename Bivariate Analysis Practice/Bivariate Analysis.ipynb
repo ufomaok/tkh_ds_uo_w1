{
 "cells": [
  {
   "cell_type": "code",
   "execution_count": 3,
   "metadata": {},
   "outputs": [],
   "source": [
    "import numpy as np\n",
    "import statsmodels as stats\n",
    "import matplotlib.pyplot as plt\n",
    "import pandas as pd\n",
    "\n"
   ]
  },
  {
   "cell_type": "code",
   "execution_count": 4,
   "metadata": {},
   "outputs": [],
   "source": [
    "# Generate 2 pairs of 20 datapoints\n",
    "# np.random.normal generates on the following parameters (mean, scale, size of array)\n",
    "# Making (2, 20) array of data which is 2 columns of 20 datapoints\n",
    "\n",
    "data = np.random.normal(0, 1, (2,20))\n",
    "\n"
   ]
  },
  {
   "cell_type": "code",
   "execution_count": 5,
   "metadata": {},
   "outputs": [
    {
     "data": {
      "text/plain": [
       "array([[ 0.80566464,  1.30586648,  1.14656843, -0.54471032,  0.72310937,\n",
       "        -1.15655604,  0.38206507, -0.6929524 ,  2.07467472, -2.14171157,\n",
       "        -0.77729212, -0.51476062, -0.54597609,  0.974074  ,  1.72277099,\n",
       "         1.37322294,  0.73143219,  0.55539731, -1.38884146, -0.45227989],\n",
       "       [ 1.58858252,  0.620381  , -0.63858033,  1.59762725,  0.23326311,\n",
       "         0.08601815, -0.974564  , -0.72413057, -0.28389498,  0.02334668,\n",
       "         1.76329964,  0.35374829,  0.80140844, -0.10106038,  0.7305745 ,\n",
       "        -0.42340046, -1.70580196,  0.6331464 ,  0.27043135,  0.969803  ]])"
      ]
     },
     "execution_count": 5,
     "metadata": {},
     "output_type": "execute_result"
    }
   ],
   "source": [
    "\n",
    "# Array - List of lists\n",
    "\n",
    "data"
   ]
  },
  {
   "cell_type": "code",
   "execution_count": 11,
   "metadata": {},
   "outputs": [
    {
     "data": {
      "image/png": "[encoded data removed]",
      "text/plain": [
       "<Figure size 640x480 with 1 Axes>"
      ]
     },
     "metadata": {},
     "output_type": "display_data"
    }
   ],
   "source": [
    "# Plot the data using plt.scatter()\n",
    "# Hint: you may need to index the data array!\n",
    "\n",
    "x = data[0]\n",
    "y = data[1]\n",
    "\n",
    "plt.scatter(x, y)\n",
    "plt.show()"
   ]
  },
  {
   "cell_type": "code",
   "execution_count": null,
   "metadata": {},
   "outputs": [],
   "source": [
    "# Defining  x and y using the 2 columns of data \n",
    "x = data[0]\n",
    "y = data[1]"
   ]
  },
  {
   "cell_type": "code",
   "execution_count": 19,
   "metadata": {},
   "outputs": [
    {
     "data": {
      "text/plain": [
       "(0.1789882822464405, 0.24100988171305956)"
      ]
     },
     "execution_count": 19,
     "metadata": {},
     "output_type": "execute_result"
    }
   ],
   "source": [
    "# Mean of X and Y\n",
    "x_mean = np.mean(x)\n",
    "y_mean = np.mean(y)\n",
    "\n",
    "x_mean, y_mean\n"
   ]
  },
  {
   "cell_type": "code",
   "execution_count": 22,
   "metadata": {},
   "outputs": [
    {
     "data": {
      "text/plain": [
       "[0.626676358700709,\n",
       " 1.1268781931647136,\n",
       " 0.9675801510769354,\n",
       " -0.7236985981153606,\n",
       " 0.5441210857878822,\n",
       " -1.3355443176108555,\n",
       " 0.2030767915074829,\n",
       " -0.8719406795790404,\n",
       " 1.895686438369138,\n",
       " -2.320699852133164,\n",
       " -0.9562803998802752,\n",
       " -0.6937489022197459,\n",
       " -0.7249643748273732,\n",
       " 0.795085716635651,\n",
       " 1.5437827101258437,\n",
       " 1.1942346602556893,\n",
       " 0.5524439104489958,\n",
       " 0.37640902300775336,\n",
       " -1.567829738449186,\n",
       " -0.6312681762657938]"
      ]
     },
     "execution_count": 22,
     "metadata": {},
     "output_type": "execute_result"
    }
   ],
   "source": [
    "# Subtracting each value of x by the mean of x (x_i - x_bar) deviance of x\n",
    "ximean = []\n",
    "\n",
    "for xi in x:\n",
    "    ximean.append(xi-x_mean)\n",
    "\n",
    "ximean"
   ]
  },
  {
   "cell_type": "code",
   "execution_count": 23,
   "metadata": {},
   "outputs": [
    {
     "data": {
      "text/plain": [
       "[1.3475726380080415,\n",
       " 0.3793711142388748,\n",
       " -0.8795902100511119,\n",
       " 1.3566173677714595,\n",
       " -0.007746772185955542,\n",
       " -0.15499173617318152,\n",
       " -1.2155738816692445,\n",
       " -0.965140454162365,\n",
       " -0.524904862382997,\n",
       " -0.21766320505513684,\n",
       " 1.522289754408467,\n",
       " 0.11273840833792806,\n",
       " 0.5603985578126274,\n",
       " -0.3420702631413917,\n",
       " 0.48956461998310774,\n",
       " -0.6644103418824527,\n",
       " -1.9468118419826044,\n",
       " 0.3921365143769835,\n",
       " 0.02942147138966336,\n",
       " 0.7287931223592887]"
      ]
     },
     "execution_count": 23,
     "metadata": {},
     "output_type": "execute_result"
    }
   ],
   "source": [
    "# Subtracting each value of y by the mean of y (y_i - y_bar) deviance of y\n",
    "yimean = []\n",
    "\n",
    "for yi in y:\n",
    "    yimean.append(yi-y_mean)\n",
    "\n",
    "yimean"
   ]
  },
  {
   "cell_type": "code",
   "execution_count": 39,
   "metadata": {},
   "outputs": [
    {
     "data": {
      "text/plain": [
       "[0.8444919138715882,\n",
       " 0.4275050357523874,\n",
       " -0.8510740283270483,\n",
       " -0.9817820872351558,\n",
       " -0.0042151820931734954,\n",
       " 0.20699833252273345,\n",
       " -0.24685484372968686,\n",
       " 0.8415452234915562,\n",
       " -0.9950550290534662,\n",
       " 0.5051309677862866,\n",
       " -1.4557358550793749,\n",
       " -0.07821214702243905,\n",
       " -0.40626899011879297,\n",
       " -0.2719751803095191,\n",
       " 0.7557813958192509,\n",
       " -0.7934618589083573,\n",
       " -1.0755043468932823,\n",
       " 0.1476037222623062,\n",
       " -0.046127857793646115,\n",
       " -0.4600639052268017]"
      ]
     },
     "execution_count": 39,
     "metadata": {},
     "output_type": "execute_result"
    }
   ],
   "source": [
    "# Product of xi-x_bar and yi-y_bar\n",
    "\n",
    "xyvalues= []\n",
    "\n",
    "if len(ximean) == len(yimean):\n",
    "    for i in range(len(ximean)):\n",
    "        xyproduct = ximean[i] * yimean[i]\n",
    "        xyvalues.append(xyproduct)\n",
    "  \n",
    "xyvalues\n"
   ]
  },
  {
   "cell_type": "code",
   "execution_count": 45,
   "metadata": {},
   "outputs": [
    {
     "data": {
      "text/plain": [
       "-3.937274720284635"
      ]
     },
     "execution_count": 45,
     "metadata": {},
     "output_type": "execute_result"
    }
   ],
   "source": [
    "# Sum of (x_i - x_bar) * (y_i - y_bar)\n",
    "sum(xyvalues)"
   ]
  },
  {
   "cell_type": "code",
   "execution_count": 61,
   "metadata": {},
   "outputs": [
    {
     "data": {
      "text/plain": [
       "[0.39272325855437973,\n",
       " 1.2698544622301695,\n",
       " 0.9362113487580651,\n",
       " 0.5237396609141383,\n",
       " 0.2960677559989839,\n",
       " 1.7836786243026455,\n",
       " 0.041240183248973675,\n",
       " 0.7602805487047588,\n",
       " 3.593627072616668,\n",
       " 5.385647803690889,\n",
       " 0.9144722031951791,\n",
       " 0.48128753933110263,\n",
       " 0.5255733447688441,\n",
       " 0.6321612967980267,\n",
       " 2.3832650560834945,\n",
       " 1.4261964237560216,\n",
       " 0.30519427419217804,\n",
       " 0.1416837526016514,\n",
       " 2.4580900887656427,\n",
       " 0.3984995103659413]"
      ]
     },
     "execution_count": 61,
     "metadata": {},
     "output_type": "execute_result"
    }
   ],
   "source": [
    "# Iterating through (x_i - x_bar) and squaring each item in list\n",
    "sq_xval = []\n",
    "\n",
    "for i in ximean:\n",
    "   sq_xval.append(i**2)\n",
    "\n",
    "sq_xval\n",
    "\n"
   ]
  },
  {
   "cell_type": "code",
   "execution_count": 63,
   "metadata": {},
   "outputs": [
    {
     "data": {
      "text/plain": [
       "[1.815952014707952,\n",
       " 0.1439224423188454,\n",
       " 0.7736789376177592,\n",
       " 1.8404106825391633,\n",
       " 6.00124793010944e-05,\n",
       " 0.024022438281977105,\n",
       " 1.4776198617964345,\n",
       " 0.9314960962607363,\n",
       " 0.2755251145533131,\n",
       " 0.047377270834874544,\n",
       " 2.317366096376991,\n",
       " 0.012709948714569408,\n",
       " 0.31404654359847267,\n",
       " 0.11701206492562097,\n",
       " 0.2396735171392047,\n",
       " 0.4414411024003577,\n",
       " 3.790076348083701,\n",
       " 0.1537710459077302,\n",
       " 0.0008656229787327797,\n",
       " 0.5311394151982012]"
      ]
     },
     "execution_count": 63,
     "metadata": {},
     "output_type": "execute_result"
    }
   ],
   "source": [
    "# Iterating through (yi-y_bar) and squaring each item in list\n",
    "sq_yval = []\n",
    "\n",
    "for i in yimean: \n",
    "    sq_yval.append(i**2)\n",
    "\n",
    "sq_yval"
   ]
  },
  {
   "cell_type": "code",
   "execution_count": 71,
   "metadata": {},
   "outputs": [
    {
     "name": "stdout",
     "output_type": "stream",
     "text": [
      "24.649494208877755 15.248166576713936\n"
     ]
    },
    {
     "data": {
      "text/plain": [
       "375.8595937287135"
      ]
     },
     "execution_count": 71,
     "metadata": {},
     "output_type": "execute_result"
    }
   ],
   "source": [
    "# Sum and product\n",
    "sumxi= sum(sq_xval)\n",
    "sumyi = sum(sq_yval)\n",
    "\n",
    "print(sumxi, sumyi)\n",
    "\n",
    "prodsumxy = sumxi * sumyi\n",
    "prodsumxy\n"
   ]
  },
  {
   "cell_type": "code",
   "execution_count": 72,
   "metadata": {},
   "outputs": [
    {
     "data": {
      "text/plain": [
       "19.38709864133139"
      ]
     },
     "execution_count": 72,
     "metadata": {},
     "output_type": "execute_result"
    }
   ],
   "source": [
    "# Sqrt\n",
    "sqt = np.sqrt(prodsumxy)"
   ]
  },
  {
   "cell_type": "code",
   "execution_count": 74,
   "metadata": {},
   "outputs": [
    {
     "data": {
      "text/plain": [
       "-0.2030873620197481"
      ]
     },
     "execution_count": 74,
     "metadata": {},
     "output_type": "execute_result"
    }
   ],
   "source": [
    "\n",
    "sumxy = sum(xyvalues)\n",
    "sqt = np.sqrt(prodsumxy)\n",
    "\n",
    "sumxy/sqt"
   ]
  },
  {
   "cell_type": "code",
   "execution_count": 75,
   "metadata": {},
   "outputs": [
    {
     "data": {
      "text/html": [
       "<div>\n",
       "<style scoped>\n",
       "    .dataframe tbody tr th:only-of-type {\n",
       "        vertical-align: middle;\n",
       "    }\n",
       "\n",
       "    .dataframe tbody tr th {\n",
       "        vertical-align: top;\n",
       "    }\n",
       "\n",
       "    .dataframe thead th {\n",
       "        text-align: right;\n",
       "    }\n",
       "</style>\n",
       "<table border=\"1\" class=\"dataframe\">\n",
       "  <thead>\n",
       "    <tr style=\"text-align: right;\">\n",
       "      <th></th>\n",
       "      <th>col_1</th>\n",
       "      <th>col_2</th>\n",
       "    </tr>\n",
       "  </thead>\n",
       "  <tbody>\n",
       "    <tr>\n",
       "      <th>0</th>\n",
       "      <td>0.805665</td>\n",
       "      <td>1.588583</td>\n",
       "    </tr>\n",
       "    <tr>\n",
       "      <th>1</th>\n",
       "      <td>1.305866</td>\n",
       "      <td>0.620381</td>\n",
       "    </tr>\n",
       "    <tr>\n",
       "      <th>2</th>\n",
       "      <td>1.146568</td>\n",
       "      <td>-0.638580</td>\n",
       "    </tr>\n",
       "    <tr>\n",
       "      <th>3</th>\n",
       "      <td>-0.544710</td>\n",
       "      <td>1.597627</td>\n",
       "    </tr>\n",
       "    <tr>\n",
       "      <th>4</th>\n",
       "      <td>0.723109</td>\n",
       "      <td>0.233263</td>\n",
       "    </tr>\n",
       "  </tbody>\n",
       "</table>\n",
       "</div>"
      ],
      "text/plain": [
       "      col_1     col_2\n",
       "0  0.805665  1.588583\n",
       "1  1.305866  0.620381\n",
       "2  1.146568 -0.638580\n",
       "3 -0.544710  1.597627\n",
       "4  0.723109  0.233263"
      ]
     },
     "execution_count": 75,
     "metadata": {},
     "output_type": "execute_result"
    }
   ],
   "source": [
    "# Using Pandas to create dataframe, returning first 5 columns\n",
    "\n",
    "df = pd.DataFrame({'col_1': data[0], 'col_2': data[1]})\n",
    "df.head()"
   ]
  },
  {
   "cell_type": "code",
   "execution_count": 77,
   "metadata": {},
   "outputs": [
    {
     "data": {
      "text/plain": [
       "<Axes: xlabel='col_1', ylabel='col_2'>"
      ]
     },
     "execution_count": 77,
     "metadata": {},
     "output_type": "execute_result"
    },
    {
     "data": {
      "image/png": "[encoded data removed]",
      "text/plain": [
       "<Figure size 640x480 with 1 Axes>"
      ]
     },
     "metadata": {},
     "output_type": "display_data"
    }
   ],
   "source": [
    "#Plotting Scatterplot\n",
    "\n",
    "df.plot(x= \"col_1\", y=\"col_2\", kind='scatter')"
   ]
  },
  {
   "cell_type": "code",
   "execution_count": 79,
   "metadata": {},
   "outputs": [
    {
     "data": {
      "text/html": [
       "<div>\n",
       "<style scoped>\n",
       "    .dataframe tbody tr th:only-of-type {\n",
       "        vertical-align: middle;\n",
       "    }\n",
       "\n",
       "    .dataframe tbody tr th {\n",
       "        vertical-align: top;\n",
       "    }\n",
       "\n",
       "    .dataframe thead th {\n",
       "        text-align: right;\n",
       "    }\n",
       "</style>\n",
       "<table border=\"1\" class=\"dataframe\">\n",
       "  <thead>\n",
       "    <tr style=\"text-align: right;\">\n",
       "      <th></th>\n",
       "      <th>col_1</th>\n",
       "      <th>col_2</th>\n",
       "    </tr>\n",
       "  </thead>\n",
       "  <tbody>\n",
       "    <tr>\n",
       "      <th>col_1</th>\n",
       "      <td>1.000000</td>\n",
       "      <td>-0.203087</td>\n",
       "    </tr>\n",
       "    <tr>\n",
       "      <th>col_2</th>\n",
       "      <td>-0.203087</td>\n",
       "      <td>1.000000</td>\n",
       "    </tr>\n",
       "  </tbody>\n",
       "</table>\n",
       "</div>"
      ],
      "text/plain": [
       "          col_1     col_2\n",
       "col_1  1.000000 -0.203087\n",
       "col_2 -0.203087  1.000000"
      ]
     },
     "execution_count": 79,
     "metadata": {},
     "output_type": "execute_result"
    }
   ],
   "source": [
    "# Using df.corr() function for correlation\n",
    "# column1 will always have 1.0 correlation to itself (top left, [0,0])\n",
    "# column2 will always have 1.0 correlation to iteself (bottom right, [1,1])\n",
    "\n",
    "\n",
    "df.corr()"
   ]
  },
  {
   "cell_type": "code",
   "execution_count": null,
   "metadata": {},
   "outputs": [],
   "source": []
  }
 ],
 "metadata": {
  "kernelspec": {
   "display_name": "base",
   "language": "python",
   "name": "python3"
  },
  "language_info": {
   "codemirror_mode": {
    "name": "ipython",
    "version": 3
   },
   "file_extension": ".py",
   "mimetype": "text/x-python",
   "name": "python",
   "nbconvert_exporter": "python",
   "pygments_lexer": "ipython3",
   "version": "3.11.4"
  },
  "orig_nbformat": 4
 },
 "nbformat": 4,
 "nbformat_minor": 2
}

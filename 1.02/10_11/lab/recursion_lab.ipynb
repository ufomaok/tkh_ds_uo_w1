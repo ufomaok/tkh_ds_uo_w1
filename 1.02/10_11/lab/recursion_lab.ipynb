{
 "cells": [
  {
   "cell_type": "markdown",
   "id": "54bed81f",
   "metadata": {},
   "source": [
    "## Recursion Lab\n",
    "\n",
    "These questions come from Think Python, 2nd Edition Ch. 5.\n",
    "\n",
    "I have adapted the questions slightly to better fit the needs of the class."
   ]
  },
  {
   "cell_type": "markdown",
   "id": "cb845d44",
   "metadata": {},
   "source": [
    "**Exercise 5.2.** Fermat’s Last Theorem says that there are no positive integers a, b, and c such that\n",
    "\n",
    "a^n + b^n = c^n\n",
    "\n",
    "for any values of n greater than 2.\n",
    "\n",
    "1. Write a function named check_fermat that takes four parameters—a, b, c and n—and\n",
    "checks to see if Fermat’s theorem holds. If n is greater than 2 and\n",
    "\n",
    "a^n + b^n = c^n\n",
    "\n",
    "the program should print, “Holy smokes, Fermat was wrong!” Otherwise the program should print, “No, that doesn’t work.”"
   ]
  },
  {
   "cell_type": "code",
   "execution_count": null,
   "id": "bb5c225d",
   "metadata": {},
   "outputs": [],
   "source": [
    "##  Here is the general format of a function\n",
    "\n",
    "def function(parameter1, parameter2, parameter3, parameter4): #start with def, name of function, the number of parameters and :\n",
    "    # Write what you want your function to do, make sure to indent!\n",
    "    sum_of_params = parameter1 + parameter2 + parameter3 + parameter4\n",
    "    print(sum_of_params) # this will show us the result in the code\n",
    "    return sum_of_params #return is what will give us an answer to use elsewhere"
   ]
  },
  {
   "cell_type": "code",
   "execution_count": null,
   "id": "a95b072a",
   "metadata": {},
   "outputs": [],
   "source": [
    "## Write your function here\n",
    "\n",
    "def check_fermat(a, b, c, n):\n",
    "    fermat_check = a**n + b**n == c**n\n",
    "    if n > 2:\n",
    "        print(\"Holy Smokes, Fermat was wrong\")\n",
    "    else:\n",
    "        print(\"No, that doesn't work\")\n",
    "\n",
    "    "
   ]
  },
  {
   "cell_type": "code",
   "execution_count": null,
   "id": "c55db4f3",
   "metadata": {},
   "outputs": [],
   "source": [
    "check_fermat(1, 3, 4, 4)"
   ]
  },
  {
   "cell_type": "code",
   "execution_count": null,
   "id": "9aa4e231",
   "metadata": {},
   "outputs": [],
   "source": [
    "check_fermat(1, 2, 3, 2)"
   ]
  },
  {
   "cell_type": "markdown",
   "id": "1bd002f9",
   "metadata": {},
   "source": [
    "2. Write a function that prompts the user to input values for a, b, c and n, converts them to\n",
    "integers, and uses check_fermat to check whether they violate Fermat’s theorem."
   ]
  },
  {
   "cell_type": "code",
   "execution_count": null,
   "id": "bbdbebf5",
   "metadata": {},
   "outputs": [],
   "source": [
    "## Write your function here\n",
    "\n",
    "def userinput():\n",
    "    try:\n",
    "        a = int(input(\"Enter 'a' value:\"))\n",
    "        b = int(input(\"Enter 'b' value:\"))\n",
    "        c = int(input(\"Enter 'c' value:\"))\n",
    "        n = int(input(\"Enter 'n' value greater than 2:\"))\n",
    "        return a, b, c, n\n",
    "    except ValueError:\n",
    "        print(\"Enter another value\")\n",
    "\n",
    "userinput()"
   ]
  },
  {
   "cell_type": "markdown",
   "id": "165741ec",
   "metadata": {},
   "source": [
    "**Exercise 5.3.** If you are given three sticks, you may or may not be able to arrange them in a triangle.\n",
    "\n",
    "For example, if one of the sticks is 12 inches long and the other two are one inch long, you will not\n",
    "be able to get the short sticks to meet in the middle. For any three lengths, there is a simple test to\n",
    "see if it is possible to form a triangle:\n",
    "\n",
    "If any of the three lengths is greater than the sum of the other two, then you cannot\n",
    "form a triangle. Otherwise, you can. (If the sum of two lengths equals the third, they\n",
    "form what is called a “degenerate” triangle.)\n",
    "\n",
    "1. Write a function named is_triangle that takes three integers as arguments, and that prints\n",
    "either “Yes” or “No”, depending on whether you can or cannot form a triangle from sticks\n",
    "with the given lengths."
   ]
  },
  {
   "cell_type": "code",
   "execution_count": null,
   "id": "535b97ff",
   "metadata": {},
   "outputs": [],
   "source": [
    "def triangle(a, b, c):\n",
    "    if a + b > c and b + c > a and a + c > b:\n",
    "        print(\"yes\")\n",
    "    else: \n",
    "        print(\"no\")"
   ]
  },
  {
   "cell_type": "markdown",
   "id": "0cc4df79",
   "metadata": {},
   "source": [
    "2. Write a function that prompts the user to input three stick lengths, converts them to integers,\n",
    "and uses is_triangle to check whether sticks with the given lengths can form a triangle."
   ]
  },
  {
   "cell_type": "code",
   "execution_count": null,
   "id": "dd37bffd",
   "metadata": {},
   "outputs": [],
   "source": [
    "def input_length():\n",
    "    try:\n",
    "        a = int(input(\"Enter length of stick one\"))\n",
    "        b = int(input(\"Enter length of stick two\"))\n",
    "        c = int(input(\"Enter length of stick three\"))\n",
    "        output = \"yes\" if a + b > c and b + c > a and a + c > b else \"no\"\n",
    "        print(output)\n",
    "    except ValueError:\n",
    "        print(\"Enter another stick length\")\n",
    "        \n"
   ]
  },
  {
   "cell_type": "markdown",
   "id": "1a9f2460",
   "metadata": {},
   "source": [
    "**Exercise 5.4.** What is the output of the following program? Describe or draw a stack diagram that shows the\n",
    "state of the program when it prints the result. As in, write down what you think this program is trying to do.\n",
    "\n",
    "Answer Here: From my understanding, the program is trying to see if value of n is equal to zero. If n is zero, the recurse function will print out just s. However, if n is greater than zero, then the program will print out n-1 and n+s. The value of s will increase and the value of n will decrease until n becomes 0. I don't think anything will happen when reaching the second recursion (3, 0), since these values are fixed. "
   ]
  },
  {
   "cell_type": "code",
   "execution_count": 2,
   "id": "9495e892",
   "metadata": {},
   "outputs": [],
   "source": [
    "def recurse(n, s):\n",
    "    if n == 0:\n",
    "        print(s)\n",
    "    else:\n",
    "        recurse(n-1, n+s)\n",
    "        recurse(3, 0)"
   ]
  },
  {
   "cell_type": "markdown",
   "id": "20d459e6",
   "metadata": {},
   "source": [
    "What would happen if you called this function like this: recurse(-1, 0)?\n",
    "\n",
    "I believe that recursion would become infinite, since negative numbers will keep getting further away from zero as you subtract by one.  "
   ]
  }
 ],
 "metadata": {
  "kernelspec": {
   "display_name": "phase1",
   "language": "python",
   "name": "python3"
  },
  "language_info": {
   "codemirror_mode": {
    "name": "ipython",
    "version": 3
   },
   "file_extension": ".py",
   "mimetype": "text/x-python",
   "name": "python",
   "nbconvert_exporter": "python",
   "pygments_lexer": "ipython3",
   "version": "3.9.18"
  }
 },
 "nbformat": 4,
 "nbformat_minor": 5
}

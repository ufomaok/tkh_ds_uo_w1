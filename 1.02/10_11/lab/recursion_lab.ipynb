{
 "cells": [
  {
   "cell_type": "markdown",
   "id": "54bed81f",
   "metadata": {},
   "source": [
    "## Recursion Lab\n",
    "\n",
    "These questions come from Think Python, 2nd Edition Ch. 5.\n",
    "\n",
    "I have adapted the questions slightly to better fit the needs of the class."
   ]
  },
  {
   "cell_type": "markdown",
   "id": "cb845d44",
   "metadata": {},
   "source": [
    "**Exercise 5.2.** Fermat’s Last Theorem says that there are no positive integers a, b, and c such that\n",
    "\n",
    "a^n + b^n = c^n\n",
    "\n",
    "for any values of n greater than 2.\n",
    "\n",
    "1. Write a function named check_fermat that takes four parameters—a, b, c and n—and\n",
    "checks to see if Fermat’s theorem holds. If n is greater than 2 and\n",
    "\n",
    "a^n + b^n = c^n\n",
    "\n",
    "the program should print, “Holy smokes, Fermat was wrong!” Otherwise the program should print, “No, that doesn’t work.”"
   ]
  },
  {
   "cell_type": "code",
   "execution_count": 55,
   "id": "bb5c225d",
   "metadata": {},
   "outputs": [],
   "source": [
    "##  Here is the general format of a function\n",
    "\n",
    "def function(parameter1, parameter2, parameter3, parameter4): #start with def, name of function, the number of parameters and :\n",
    "    # Write what you want your function to do, make sure to indent!\n",
    "    sum_of_params = parameter1 + parameter2 + parameter3 + parameter4\n",
    "    print(sum_of_params) # this will show us the result in the code\n",
    "    return sum_of_params #return is what will give us an answer to use elsewhere"
   ]
  },
  {
   "cell_type": "code",
   "execution_count": 56,
   "id": "a95b072a",
   "metadata": {},
   "outputs": [],
   "source": [
    "## Write your function here\n",
    "\n",
    "def check_fermat(a, b, c, n):\n",
    "    fermat_check = a**n + b**n == c**n\n",
    "    if n > 2:\n",
    "        print(\"Holy Smokes, Fermat was wrong\")\n",
    "    else:\n",
    "        print(\"No, that doesn't work\")\n",
    "\n",
    "    "
   ]
  },
  {
   "cell_type": "code",
   "execution_count": 57,
   "id": "c55db4f3",
   "metadata": {},
   "outputs": [
    {
     "name": "stdout",
     "output_type": "stream",
     "text": [
      "Holy Smokes, Fermat was wrong\n"
     ]
    }
   ],
   "source": [
    "check_fermat(1, 3, 4, 4)"
   ]
  },
  {
   "cell_type": "code",
   "execution_count": 58,
   "id": "9aa4e231",
   "metadata": {},
   "outputs": [
    {
     "name": "stdout",
     "output_type": "stream",
     "text": [
      "No, that doesn't work\n"
     ]
    }
   ],
   "source": [
    "check_fermat(1, 2, 3, 2)"
   ]
  },
  {
   "cell_type": "markdown",
   "id": "1bd002f9",
   "metadata": {},
   "source": [
    "2. Write a function that prompts the user to input values for a, b, c and n, converts them to\n",
    "integers, and uses check_fermat to check whether they violate Fermat’s theorem."
   ]
  },
  {
   "cell_type": "code",
   "execution_count": 61,
   "id": "bbdbebf5",
   "metadata": {},
   "outputs": [
    {
     "ename": "NameError",
     "evalue": "name 'get_user_input' is not defined",
     "output_type": "error",
     "traceback": [
      "\u001b[1;31m---------------------------------------------------------------------------\u001b[0m",
      "\u001b[1;31mNameError\u001b[0m                                 Traceback (most recent call last)",
      "\u001b[1;32mc:\\Users\\Uma\\Desktop\\tkh_mini_projects\\1.02\\10_11\\lab\\recursion_lab.ipynb Cell 8\u001b[0m line \u001b[0;36m2\n\u001b[0;32m     <a href='vscode-notebook-cell:/c%3A/Users/Uma/Desktop/tkh_mini_projects/1.02/10_11/lab/recursion_lab.ipynb#X10sZmlsZQ%3D%3D?line=16'>17</a>\u001b[0m         check_fermat(\u001b[39m*\u001b[39mvalues)\n\u001b[0;32m     <a href='vscode-notebook-cell:/c%3A/Users/Uma/Desktop/tkh_mini_projects/1.02/10_11/lab/recursion_lab.ipynb#X10sZmlsZQ%3D%3D?line=18'>19</a>\u001b[0m \u001b[39mif\u001b[39;00m \u001b[39m__name__\u001b[39m \u001b[39m==\u001b[39m \u001b[39m\"\u001b[39m\u001b[39m__main__\u001b[39m\u001b[39m\"\u001b[39m:\n\u001b[1;32m---> <a href='vscode-notebook-cell:/c%3A/Users/Uma/Desktop/tkh_mini_projects/1.02/10_11/lab/recursion_lab.ipynb#X10sZmlsZQ%3D%3D?line=19'>20</a>\u001b[0m     main()\n",
      "\u001b[1;32mc:\\Users\\Uma\\Desktop\\tkh_mini_projects\\1.02\\10_11\\lab\\recursion_lab.ipynb Cell 8\u001b[0m line \u001b[0;36m1\n\u001b[0;32m     <a href='vscode-notebook-cell:/c%3A/Users/Uma/Desktop/tkh_mini_projects/1.02/10_11/lab/recursion_lab.ipynb#X10sZmlsZQ%3D%3D?line=13'>14</a>\u001b[0m \u001b[39mdef\u001b[39;00m \u001b[39mmain\u001b[39m():\n\u001b[1;32m---> <a href='vscode-notebook-cell:/c%3A/Users/Uma/Desktop/tkh_mini_projects/1.02/10_11/lab/recursion_lab.ipynb#X10sZmlsZQ%3D%3D?line=14'>15</a>\u001b[0m     values \u001b[39m=\u001b[39m get_user_input()\n\u001b[0;32m     <a href='vscode-notebook-cell:/c%3A/Users/Uma/Desktop/tkh_mini_projects/1.02/10_11/lab/recursion_lab.ipynb#X10sZmlsZQ%3D%3D?line=15'>16</a>\u001b[0m     \u001b[39mif\u001b[39;00m values:\n\u001b[0;32m     <a href='vscode-notebook-cell:/c%3A/Users/Uma/Desktop/tkh_mini_projects/1.02/10_11/lab/recursion_lab.ipynb#X10sZmlsZQ%3D%3D?line=16'>17</a>\u001b[0m         check_fermat(\u001b[39m*\u001b[39mvalues)\n",
      "\u001b[1;31mNameError\u001b[0m: name 'get_user_input' is not defined"
     ]
    }
   ],
   "source": [
    "## Write your function here\n",
    "\n",
    "def userinput(a,b,c,n):\n",
    "    input(\"Enter Value: \")\n",
    "    print(a,b,c,n))"
   ]
  },
  {
   "cell_type": "markdown",
   "id": "165741ec",
   "metadata": {},
   "source": [
    "**Exercise 5.3.** If you are given three sticks, you may or may not be able to arrange them in a triangle.\n",
    "\n",
    "For example, if one of the sticks is 12 inches long and the other two are one inch long, you will not\n",
    "be able to get the short sticks to meet in the middle. For any three lengths, there is a simple test to\n",
    "see if it is possible to form a triangle:\n",
    "\n",
    "If any of the three lengths is greater than the sum of the other two, then you cannot\n",
    "form a triangle. Otherwise, you can. (If the sum of two lengths equals the third, they\n",
    "form what is called a “degenerate” triangle.)\n",
    "\n",
    "1. Write a function named is_triangle that takes three integers as arguments, and that prints\n",
    "either “Yes” or “No”, depending on whether you can or cannot form a triangle from sticks\n",
    "with the given lengths."
   ]
  },
  {
   "cell_type": "code",
   "execution_count": null,
   "id": "535b97ff",
   "metadata": {},
   "outputs": [],
   "source": []
  },
  {
   "cell_type": "markdown",
   "id": "0cc4df79",
   "metadata": {},
   "source": [
    "2. Write a function that prompts the user to input three stick lengths, converts them to integers,\n",
    "and uses is_triangle to check whether sticks with the given lengths can form a triangle."
   ]
  },
  {
   "cell_type": "code",
   "execution_count": null,
   "id": "dd37bffd",
   "metadata": {},
   "outputs": [],
   "source": []
  },
  {
   "cell_type": "markdown",
   "id": "1a9f2460",
   "metadata": {},
   "source": [
    "**Exercise 5.4.** What is the output of the following program? Describe or draw a stack diagram that shows the\n",
    "state of the program when it prints the result. As in, write down what you think this program is trying to do.\n",
    "\n",
    "Answer Here:"
   ]
  },
  {
   "cell_type": "code",
   "execution_count": null,
   "id": "9495e892",
   "metadata": {},
   "outputs": [],
   "source": [
    "def recurse(n, s):\n",
    "    if n == 0:\n",
    "        print(s)\n",
    "    else:\n",
    "        recurse(n-1, n+s)\n",
    "        recurse(3, 0)"
   ]
  },
  {
   "cell_type": "markdown",
   "id": "20d459e6",
   "metadata": {},
   "source": [
    "What would happen if you called this function like this: recurse(-1, 0)?"
   ]
  }
 ],
 "metadata": {
  "kernelspec": {
   "display_name": "phase1",
   "language": "python",
   "name": "python3"
  },
  "language_info": {
   "codemirror_mode": {
    "name": "ipython",
    "version": 3
   },
   "file_extension": ".py",
   "mimetype": "text/x-python",
   "name": "python",
   "nbconvert_exporter": "python",
   "pygments_lexer": "ipython3",
   "version": "3.9.18"
  }
 },
 "nbformat": 4,
 "nbformat_minor": 5
}

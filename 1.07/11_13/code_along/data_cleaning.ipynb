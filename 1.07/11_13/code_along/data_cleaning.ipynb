{
 "cells": [
  {
   "cell_type": "markdown",
   "metadata": {},
   "source": [
    "# Data Cleaning Code-Along\n",
    "\n",
    "Implement the code-blocks below in order to explore some common data-transformation techniques. We will be using the `realestate.xlsx` file again (with a twist)."
   ]
  },
  {
   "cell_type": "markdown",
   "metadata": {},
   "source": [
    "## Data Cleaning I\n",
    "\n",
    "Simple drops."
   ]
  },
  {
   "cell_type": "code",
   "execution_count": 1,
   "metadata": {},
   "outputs": [],
   "source": [
    "import pandas as pd\n",
    "import numpy as np"
   ]
  },
  {
   "cell_type": "code",
   "execution_count": 2,
   "metadata": {},
   "outputs": [],
   "source": [
    "# TODO: Load in your data from `../../data/realestate.xlsx`\n",
    "\n",
    "df = pd.read_excel('../data/realestate.xlsx')"
   ]
  },
  {
   "cell_type": "code",
   "execution_count": 3,
   "metadata": {},
   "outputs": [
    {
     "data": {
      "text/html": [
       "<div>\n",
       "<style scoped>\n",
       "    .dataframe tbody tr th:only-of-type {\n",
       "        vertical-align: middle;\n",
       "    }\n",
       "\n",
       "    .dataframe tbody tr th {\n",
       "        vertical-align: top;\n",
       "    }\n",
       "\n",
       "    .dataframe thead th {\n",
       "        text-align: right;\n",
       "    }\n",
       "</style>\n",
       "<table border=\"1\" class=\"dataframe\">\n",
       "  <thead>\n",
       "    <tr style=\"text-align: right;\">\n",
       "      <th></th>\n",
       "      <th>No</th>\n",
       "      <th>X2 house age</th>\n",
       "      <th>X3 distance to the nearest MRT station</th>\n",
       "      <th>X4 number of convenience stores</th>\n",
       "      <th>X5 latitude</th>\n",
       "      <th>X6 longitude</th>\n",
       "      <th>Y house price of unit area</th>\n",
       "    </tr>\n",
       "  </thead>\n",
       "  <tbody>\n",
       "    <tr>\n",
       "      <th>0</th>\n",
       "      <td>1</td>\n",
       "      <td>32</td>\n",
       "      <td>84.87882</td>\n",
       "      <td>100.0</td>\n",
       "      <td>24.98298</td>\n",
       "      <td>121.54024</td>\n",
       "      <td>37.9</td>\n",
       "    </tr>\n",
       "    <tr>\n",
       "      <th>1</th>\n",
       "      <td>2</td>\n",
       "      <td>19.5</td>\n",
       "      <td>306.59470</td>\n",
       "      <td>9.0</td>\n",
       "      <td>24.98034</td>\n",
       "      <td>121.53951</td>\n",
       "      <td>42.2</td>\n",
       "    </tr>\n",
       "    <tr>\n",
       "      <th>2</th>\n",
       "      <td>3</td>\n",
       "      <td>13.3</td>\n",
       "      <td>561.98450</td>\n",
       "      <td>5.0</td>\n",
       "      <td>24.98746</td>\n",
       "      <td>121.54391</td>\n",
       "      <td>47.3</td>\n",
       "    </tr>\n",
       "    <tr>\n",
       "      <th>3</th>\n",
       "      <td>4</td>\n",
       "      <td>13.3</td>\n",
       "      <td>561.98450</td>\n",
       "      <td>5.0</td>\n",
       "      <td>24.98746</td>\n",
       "      <td>121.54391</td>\n",
       "      <td>54.8</td>\n",
       "    </tr>\n",
       "    <tr>\n",
       "      <th>4</th>\n",
       "      <td>5</td>\n",
       "      <td>5</td>\n",
       "      <td>390.56840</td>\n",
       "      <td>5.0</td>\n",
       "      <td>24.97937</td>\n",
       "      <td>121.54245</td>\n",
       "      <td>43.1</td>\n",
       "    </tr>\n",
       "  </tbody>\n",
       "</table>\n",
       "</div>"
      ],
      "text/plain": [
       "   No X2 house age  X3 distance to the nearest MRT station  \\\n",
       "0   1           32                                84.87882   \n",
       "1   2         19.5                               306.59470   \n",
       "2   3         13.3                               561.98450   \n",
       "3   4         13.3                               561.98450   \n",
       "4   5            5                               390.56840   \n",
       "\n",
       "   X4 number of convenience stores  X5 latitude  X6 longitude  \\\n",
       "0                            100.0     24.98298     121.54024   \n",
       "1                              9.0     24.98034     121.53951   \n",
       "2                              5.0     24.98746     121.54391   \n",
       "3                              5.0     24.98746     121.54391   \n",
       "4                              5.0     24.97937     121.54245   \n",
       "\n",
       "   Y house price of unit area  \n",
       "0                        37.9  \n",
       "1                        42.2  \n",
       "2                        47.3  \n",
       "3                        54.8  \n",
       "4                        43.1  "
      ]
     },
     "execution_count": 3,
     "metadata": {},
     "output_type": "execute_result"
    }
   ],
   "source": [
    "# TODO: Observe first 5 rows\n",
    "\n",
    "df.head()"
   ]
  },
  {
   "cell_type": "code",
   "execution_count": 4,
   "metadata": {},
   "outputs": [
    {
     "data": {
      "text/plain": [
       "No                                         0\n",
       "X2 house age                              11\n",
       "X3 distance to the nearest MRT station     0\n",
       "X4 number of convenience stores            1\n",
       "X5 latitude                                0\n",
       "X6 longitude                               0\n",
       "Y house price of unit area                 0\n",
       "dtype: int64"
      ]
     },
     "execution_count": 4,
     "metadata": {},
     "output_type": "execute_result"
    }
   ],
   "source": [
    "# TODO: Count how many null values we have\n",
    "\n",
    "df.isna().sum()"
   ]
  },
  {
   "cell_type": "code",
   "execution_count": 5,
   "metadata": {},
   "outputs": [],
   "source": [
    "# TODO: Let's drop these missing values, and save this new dataframe into a new var called \"df_new\"\n",
    "\n",
    "df_new = df.dropna()"
   ]
  },
  {
   "cell_type": "code",
   "execution_count": 6,
   "metadata": {},
   "outputs": [
    {
     "data": {
      "text/plain": [
       "No                                        0\n",
       "X2 house age                              0\n",
       "X3 distance to the nearest MRT station    0\n",
       "X4 number of convenience stores           0\n",
       "X5 latitude                               0\n",
       "X6 longitude                              0\n",
       "Y house price of unit area                0\n",
       "dtype: int64"
      ]
     },
     "execution_count": 6,
     "metadata": {},
     "output_type": "execute_result"
    }
   ],
   "source": [
    "# TODO: Let's count our null values again\n",
    "# seems like this is good to go right? ... (wrong)\n",
    "\n",
    "df_new.isnull().sum()"
   ]
  },
  {
   "cell_type": "markdown",
   "metadata": {},
   "source": [
    "## Data Cleaning II\n",
    "\n",
    "More advanced data cleaning/transforming techniques."
   ]
  },
  {
   "cell_type": "code",
   "execution_count": 7,
   "metadata": {},
   "outputs": [
    {
     "data": {
      "text/html": [
       "<div>\n",
       "<style scoped>\n",
       "    .dataframe tbody tr th:only-of-type {\n",
       "        vertical-align: middle;\n",
       "    }\n",
       "\n",
       "    .dataframe tbody tr th {\n",
       "        vertical-align: top;\n",
       "    }\n",
       "\n",
       "    .dataframe thead th {\n",
       "        text-align: right;\n",
       "    }\n",
       "</style>\n",
       "<table border=\"1\" class=\"dataframe\">\n",
       "  <thead>\n",
       "    <tr style=\"text-align: right;\">\n",
       "      <th></th>\n",
       "      <th>No</th>\n",
       "      <th>X3 distance to the nearest MRT station</th>\n",
       "      <th>X4 number of convenience stores</th>\n",
       "      <th>X5 latitude</th>\n",
       "      <th>X6 longitude</th>\n",
       "      <th>Y house price of unit area</th>\n",
       "    </tr>\n",
       "  </thead>\n",
       "  <tbody>\n",
       "    <tr>\n",
       "      <th>count</th>\n",
       "      <td>403.000000</td>\n",
       "      <td>403.000000</td>\n",
       "      <td>403.000000</td>\n",
       "      <td>403.000000</td>\n",
       "      <td>403.000000</td>\n",
       "      <td>403.000000</td>\n",
       "    </tr>\n",
       "    <tr>\n",
       "      <th>mean</th>\n",
       "      <td>206.987593</td>\n",
       "      <td>1070.118896</td>\n",
       "      <td>4.292804</td>\n",
       "      <td>24.969040</td>\n",
       "      <td>121.533590</td>\n",
       "      <td>38.106452</td>\n",
       "    </tr>\n",
       "    <tr>\n",
       "      <th>std</th>\n",
       "      <td>118.267962</td>\n",
       "      <td>1255.001088</td>\n",
       "      <td>5.636027</td>\n",
       "      <td>0.012365</td>\n",
       "      <td>0.015250</td>\n",
       "      <td>13.610588</td>\n",
       "    </tr>\n",
       "    <tr>\n",
       "      <th>min</th>\n",
       "      <td>1.000000</td>\n",
       "      <td>23.382840</td>\n",
       "      <td>-6.000000</td>\n",
       "      <td>24.932070</td>\n",
       "      <td>121.473530</td>\n",
       "      <td>7.600000</td>\n",
       "    </tr>\n",
       "    <tr>\n",
       "      <th>25%</th>\n",
       "      <td>105.500000</td>\n",
       "      <td>289.324800</td>\n",
       "      <td>1.000000</td>\n",
       "      <td>24.963010</td>\n",
       "      <td>121.529665</td>\n",
       "      <td>27.700000</td>\n",
       "    </tr>\n",
       "    <tr>\n",
       "      <th>50%</th>\n",
       "      <td>208.000000</td>\n",
       "      <td>492.231300</td>\n",
       "      <td>4.000000</td>\n",
       "      <td>24.971100</td>\n",
       "      <td>121.538740</td>\n",
       "      <td>38.600000</td>\n",
       "    </tr>\n",
       "    <tr>\n",
       "      <th>75%</th>\n",
       "      <td>308.500000</td>\n",
       "      <td>1442.932500</td>\n",
       "      <td>6.000000</td>\n",
       "      <td>24.977440</td>\n",
       "      <td>121.543395</td>\n",
       "      <td>46.600000</td>\n",
       "    </tr>\n",
       "    <tr>\n",
       "      <th>max</th>\n",
       "      <td>414.000000</td>\n",
       "      <td>6488.021000</td>\n",
       "      <td>100.000000</td>\n",
       "      <td>25.014590</td>\n",
       "      <td>121.566270</td>\n",
       "      <td>117.500000</td>\n",
       "    </tr>\n",
       "  </tbody>\n",
       "</table>\n",
       "</div>"
      ],
      "text/plain": [
       "               No  X3 distance to the nearest MRT station  \\\n",
       "count  403.000000                              403.000000   \n",
       "mean   206.987593                             1070.118896   \n",
       "std    118.267962                             1255.001088   \n",
       "min      1.000000                               23.382840   \n",
       "25%    105.500000                              289.324800   \n",
       "50%    208.000000                              492.231300   \n",
       "75%    308.500000                             1442.932500   \n",
       "max    414.000000                             6488.021000   \n",
       "\n",
       "       X4 number of convenience stores  X5 latitude  X6 longitude  \\\n",
       "count                       403.000000   403.000000    403.000000   \n",
       "mean                          4.292804    24.969040    121.533590   \n",
       "std                           5.636027     0.012365      0.015250   \n",
       "min                          -6.000000    24.932070    121.473530   \n",
       "25%                           1.000000    24.963010    121.529665   \n",
       "50%                           4.000000    24.971100    121.538740   \n",
       "75%                           6.000000    24.977440    121.543395   \n",
       "max                         100.000000    25.014590    121.566270   \n",
       "\n",
       "       Y house price of unit area  \n",
       "count                  403.000000  \n",
       "mean                    38.106452  \n",
       "std                     13.610588  \n",
       "min                      7.600000  \n",
       "25%                     27.700000  \n",
       "50%                     38.600000  \n",
       "75%                     46.600000  \n",
       "max                    117.500000  "
      ]
     },
     "execution_count": 7,
     "metadata": {},
     "output_type": "execute_result"
    }
   ],
   "source": [
    "# TODO: is there anything that we are missing? let's take a look at our summary statistics\n",
    "# What do you notice is not being reflected here? \n",
    "\n",
    "df_new.describe()"
   ]
  },
  {
   "cell_type": "code",
   "execution_count": 8,
   "metadata": {},
   "outputs": [
    {
     "name": "stdout",
     "output_type": "stream",
     "text": [
      "<class 'pandas.core.frame.DataFrame'>\n",
      "Index: 403 entries, 0 to 413\n",
      "Data columns (total 7 columns):\n",
      " #   Column                                  Non-Null Count  Dtype  \n",
      "---  ------                                  --------------  -----  \n",
      " 0   No                                      403 non-null    int64  \n",
      " 1   X2 house age                            403 non-null    object \n",
      " 2   X3 distance to the nearest MRT station  403 non-null    float64\n",
      " 3   X4 number of convenience stores         403 non-null    float64\n",
      " 4   X5 latitude                             403 non-null    float64\n",
      " 5   X6 longitude                            403 non-null    float64\n",
      " 6   Y house price of unit area              403 non-null    float64\n",
      "dtypes: float64(5), int64(1), object(1)\n",
      "memory usage: 25.2+ KB\n"
     ]
    }
   ],
   "source": [
    "# TODO: seems like our X2 column is not being treated as a numeric, let's see what's going on\n",
    "#house age is considered object(str), when it should be a number\n",
    "df_new.info()"
   ]
  },
  {
   "cell_type": "code",
   "execution_count": 9,
   "metadata": {},
   "outputs": [
    {
     "data": {
      "text/plain": [
       "0        84.87882\n",
       "1       306.59470\n",
       "2       561.98450\n",
       "3       561.98450\n",
       "4       390.56840\n",
       "          ...    \n",
       "409    4082.01500\n",
       "410      90.45606\n",
       "411     390.96960\n",
       "412     104.81010\n",
       "413      90.45606\n",
       "Name: X3 distance to the nearest MRT station, Length: 403, dtype: float64"
      ]
     },
     "execution_count": 9,
     "metadata": {},
     "output_type": "execute_result"
    }
   ],
   "source": [
    "# TODO: seems like our \"X3 distance...\" is being treated as an \"object\" aka string, let's attempt to fix this\n",
    "\n",
    "df_new['X3 distance to the nearest MRT station'].astype(float)"
   ]
  },
  {
   "cell_type": "code",
   "execution_count": 10,
   "metadata": {},
   "outputs": [
    {
     "name": "stderr",
     "output_type": "stream",
     "text": [
      "C:\\Users\\Uma\\AppData\\Local\\Temp\\ipykernel_29232\\2952776605.py:5: SettingWithCopyWarning: \n",
      "A value is trying to be set on a copy of a slice from a DataFrame\n",
      "\n",
      "See the caveats in the documentation: https://pandas.pydata.org/pandas-docs/stable/user_guide/indexing.html#returning-a-view-versus-a-copy\n",
      "  df_new['X2 house age'].replace(to_replace= '\"BRAND NEW\"', value = 0, inplace = True)\n"
     ]
    }
   ],
   "source": [
    "# TODO: It looks like there is some string data occasionally mixed with our numerics.\n",
    "# Let's use \"replace\" instead!\n",
    "# https://pandas.pydata.org/docs/reference/api/pandas.DataFrame.replace.html\n",
    "\n",
    "df_new['X2 house age'].replace(to_replace= '\"BRAND NEW\"', value = 0, inplace = True)"
   ]
  },
  {
   "cell_type": "code",
   "execution_count": 11,
   "metadata": {},
   "outputs": [
    {
     "name": "stdout",
     "output_type": "stream",
     "text": [
      "<class 'pandas.core.frame.DataFrame'>\n",
      "Index: 403 entries, 0 to 413\n",
      "Data columns (total 7 columns):\n",
      " #   Column                                  Non-Null Count  Dtype  \n",
      "---  ------                                  --------------  -----  \n",
      " 0   No                                      403 non-null    int64  \n",
      " 1   X2 house age                            403 non-null    float64\n",
      " 2   X3 distance to the nearest MRT station  403 non-null    float64\n",
      " 3   X4 number of convenience stores         403 non-null    float64\n",
      " 4   X5 latitude                             403 non-null    float64\n",
      " 5   X6 longitude                            403 non-null    float64\n",
      " 6   Y house price of unit area              403 non-null    float64\n",
      "dtypes: float64(6), int64(1)\n",
      "memory usage: 25.2 KB\n"
     ]
    }
   ],
   "source": [
    "# TODO: Let's use \"info\" to see if our column is now being treated as a numeric\n",
    "\n",
    "df_new.info()"
   ]
  },
  {
   "cell_type": "code",
   "execution_count": 12,
   "metadata": {},
   "outputs": [
    {
     "data": {
      "text/html": [
       "<div>\n",
       "<style scoped>\n",
       "    .dataframe tbody tr th:only-of-type {\n",
       "        vertical-align: middle;\n",
       "    }\n",
       "\n",
       "    .dataframe tbody tr th {\n",
       "        vertical-align: top;\n",
       "    }\n",
       "\n",
       "    .dataframe thead th {\n",
       "        text-align: right;\n",
       "    }\n",
       "</style>\n",
       "<table border=\"1\" class=\"dataframe\">\n",
       "  <thead>\n",
       "    <tr style=\"text-align: right;\">\n",
       "      <th></th>\n",
       "      <th>No</th>\n",
       "      <th>X2 house age</th>\n",
       "      <th>X3 distance to the nearest MRT station</th>\n",
       "      <th>X4 number of convenience stores</th>\n",
       "      <th>X5 latitude</th>\n",
       "      <th>X6 longitude</th>\n",
       "      <th>Y house price of unit area</th>\n",
       "    </tr>\n",
       "  </thead>\n",
       "  <tbody>\n",
       "    <tr>\n",
       "      <th>count</th>\n",
       "      <td>403.000000</td>\n",
       "      <td>403.000000</td>\n",
       "      <td>403.000000</td>\n",
       "      <td>403.000000</td>\n",
       "      <td>403.000000</td>\n",
       "      <td>403.000000</td>\n",
       "      <td>403.000000</td>\n",
       "    </tr>\n",
       "    <tr>\n",
       "      <th>mean</th>\n",
       "      <td>206.987593</td>\n",
       "      <td>18.607196</td>\n",
       "      <td>1070.118896</td>\n",
       "      <td>4.292804</td>\n",
       "      <td>24.969040</td>\n",
       "      <td>121.533590</td>\n",
       "      <td>38.106452</td>\n",
       "    </tr>\n",
       "    <tr>\n",
       "      <th>std</th>\n",
       "      <td>118.267962</td>\n",
       "      <td>22.656541</td>\n",
       "      <td>1255.001088</td>\n",
       "      <td>5.636027</td>\n",
       "      <td>0.012365</td>\n",
       "      <td>0.015250</td>\n",
       "      <td>13.610588</td>\n",
       "    </tr>\n",
       "    <tr>\n",
       "      <th>min</th>\n",
       "      <td>1.000000</td>\n",
       "      <td>0.000000</td>\n",
       "      <td>23.382840</td>\n",
       "      <td>-6.000000</td>\n",
       "      <td>24.932070</td>\n",
       "      <td>121.473530</td>\n",
       "      <td>7.600000</td>\n",
       "    </tr>\n",
       "    <tr>\n",
       "      <th>25%</th>\n",
       "      <td>105.500000</td>\n",
       "      <td>8.700000</td>\n",
       "      <td>289.324800</td>\n",
       "      <td>1.000000</td>\n",
       "      <td>24.963010</td>\n",
       "      <td>121.529665</td>\n",
       "      <td>27.700000</td>\n",
       "    </tr>\n",
       "    <tr>\n",
       "      <th>50%</th>\n",
       "      <td>208.000000</td>\n",
       "      <td>16.100000</td>\n",
       "      <td>492.231300</td>\n",
       "      <td>4.000000</td>\n",
       "      <td>24.971100</td>\n",
       "      <td>121.538740</td>\n",
       "      <td>38.600000</td>\n",
       "    </tr>\n",
       "    <tr>\n",
       "      <th>75%</th>\n",
       "      <td>308.500000</td>\n",
       "      <td>28.300000</td>\n",
       "      <td>1442.932500</td>\n",
       "      <td>6.000000</td>\n",
       "      <td>24.977440</td>\n",
       "      <td>121.543395</td>\n",
       "      <td>46.600000</td>\n",
       "    </tr>\n",
       "    <tr>\n",
       "      <th>max</th>\n",
       "      <td>414.000000</td>\n",
       "      <td>410.300000</td>\n",
       "      <td>6488.021000</td>\n",
       "      <td>100.000000</td>\n",
       "      <td>25.014590</td>\n",
       "      <td>121.566270</td>\n",
       "      <td>117.500000</td>\n",
       "    </tr>\n",
       "  </tbody>\n",
       "</table>\n",
       "</div>"
      ],
      "text/plain": [
       "               No  X2 house age  X3 distance to the nearest MRT station  \\\n",
       "count  403.000000    403.000000                              403.000000   \n",
       "mean   206.987593     18.607196                             1070.118896   \n",
       "std    118.267962     22.656541                             1255.001088   \n",
       "min      1.000000      0.000000                               23.382840   \n",
       "25%    105.500000      8.700000                              289.324800   \n",
       "50%    208.000000     16.100000                              492.231300   \n",
       "75%    308.500000     28.300000                             1442.932500   \n",
       "max    414.000000    410.300000                             6488.021000   \n",
       "\n",
       "       X4 number of convenience stores  X5 latitude  X6 longitude  \\\n",
       "count                       403.000000   403.000000    403.000000   \n",
       "mean                          4.292804    24.969040    121.533590   \n",
       "std                           5.636027     0.012365      0.015250   \n",
       "min                          -6.000000    24.932070    121.473530   \n",
       "25%                           1.000000    24.963010    121.529665   \n",
       "50%                           4.000000    24.971100    121.538740   \n",
       "75%                           6.000000    24.977440    121.543395   \n",
       "max                         100.000000    25.014590    121.566270   \n",
       "\n",
       "       Y house price of unit area  \n",
       "count                  403.000000  \n",
       "mean                    38.106452  \n",
       "std                     13.610588  \n",
       "min                      7.600000  \n",
       "25%                     27.700000  \n",
       "50%                     38.600000  \n",
       "75%                     46.600000  \n",
       "max                    117.500000  "
      ]
     },
     "execution_count": 12,
     "metadata": {},
     "output_type": "execute_result"
    }
   ],
   "source": [
    "# TODO: Let's take a look at our 'describe' df again\n",
    "\n",
    "df_new.describe()"
   ]
  },
  {
   "cell_type": "code",
   "execution_count": 13,
   "metadata": {},
   "outputs": [
    {
     "data": {
      "text/plain": [
       "<Axes: ylabel='Frequency'>"
      ]
     },
     "execution_count": 13,
     "metadata": {},
     "output_type": "execute_result"
    },
    {
     "data": {
      "image/png": "[encoded data removed]",
      "text/plain": [
       "<Figure size 640x480 with 1 Axes>"
      ]
     },
     "metadata": {},
     "output_type": "display_data"
    }
   ],
   "source": [
    "# TODO: Great! We removed missing values, as well as unexpected strings. However, there is still more...\n",
    "# Notice the \"skewness\" of \"X2 house age\"\n",
    "# Let's plot to see what's going on\n",
    "# Documentation: https://pandas.pydata.org/docs/reference/api/pandas.DataFrame.plot.hist.html\n",
    "\n",
    "df_new[\"X2 house age\"].plot.hist(bins=25)"
   ]
  },
  {
   "cell_type": "code",
   "execution_count": 14,
   "metadata": {},
   "outputs": [],
   "source": [
    "# TODO: If an outlier is not too extreme, we generally want to keep it (more data the better)\n",
    "# However, this is a ridiculous value and most likely represents an erroneous value or an error in our collection-techniques\n",
    "# Using boolean indexing, we will remove this\n",
    "# Documentation: https://pandas.pydata.org/docs/user_guide/indexing.html#boolean-indexing\n",
    "\n"
   ]
  },
  {
   "cell_type": "code",
   "execution_count": 15,
   "metadata": {},
   "outputs": [
    {
     "data": {
      "text/plain": [
       "Ellipsis"
      ]
     },
     "execution_count": 15,
     "metadata": {},
     "output_type": "execute_result"
    }
   ],
   "source": [
    "# TODO: Let's observe our distribution again... (looking better!)\n",
    "# (we should do this check for ALL columns)\n",
    "\n",
    "..."
   ]
  },
  {
   "cell_type": "code",
   "execution_count": 16,
   "metadata": {},
   "outputs": [
    {
     "data": {
      "text/plain": [
       "Ellipsis"
      ]
     },
     "execution_count": 16,
     "metadata": {},
     "output_type": "execute_result"
    }
   ],
   "source": [
    "# TODO: Often times when we get a dataset, there is a row index label. This is often superfluous and unneeded in our analysis\n",
    "# let's drop it, as well as Latitude & Longitude\n",
    "\n",
    "..."
   ]
  },
  {
   "cell_type": "code",
   "execution_count": 17,
   "metadata": {},
   "outputs": [
    {
     "data": {
      "text/plain": [
       "Ellipsis"
      ]
     },
     "execution_count": 17,
     "metadata": {},
     "output_type": "execute_result"
    }
   ],
   "source": [
    "# TODO: Lastly, we should rename our columns for \"ease of use\"\n",
    "# Documentation: https://pandas.pydata.org/docs/reference/api/pandas.DataFrame.rename.html\n",
    "\n",
    "..."
   ]
  }
 ],
 "metadata": {
  "kernelspec": {
   "display_name": "phase1",
   "language": "python",
   "name": "python3"
  },
  "language_info": {
   "codemirror_mode": {
    "name": "ipython",
    "version": 3
   },
   "file_extension": ".py",
   "mimetype": "text/x-python",
   "name": "python",
   "nbconvert_exporter": "python",
   "pygments_lexer": "ipython3",
   "version": "3.9.18"
  }
 },
 "nbformat": 4,
 "nbformat_minor": 2
}

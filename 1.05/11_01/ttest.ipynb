{
 "cells": [
  {
   "cell_type": "markdown",
   "metadata": {},
   "source": [
    "# Z-Test Lab\n",
    "Because we've already done a manual calculation of the t-test, lets try doing the z-test.\n",
    "\n",
    "Spend some time reading through this geek-for-geeks article. https://www.geeksforgeeks.org/z-test/#\n",
    "\n",
    "Then take the code examples that are given in the article and recreate a one-tailed one-sample z-test and a two-tailed two-sampled z-test."
   ]
  },
  {
   "cell_type": "code",
   "execution_count": 8,
   "metadata": {},
   "outputs": [],
   "source": [
    "## Write the imports you'll need here\n",
    "import numpy as np\n",
    "import scipy.stats as stats"
   ]
  },
  {
   "cell_type": "markdown",
   "metadata": {},
   "source": [
    "## One-Sample Z-Test"
   ]
  },
  {
   "cell_type": "code",
   "execution_count": 18,
   "metadata": {},
   "outputs": [],
   "source": [
    "\n",
    "# Given information for one-tailed one-sample Z-test\n",
    "# Assume we have a sample size of 100 with a mean of 310\n",
    "# Assume we know the population mean of 280 with a known population std deviation of 20\n",
    "# At an alpha = 0.05 can we confidently say that these two groups are different?\n",
    "\n",
    "sample_mean = 310\n",
    "population_mean = 280\n",
    "population_std = 20\n",
    "sample_size = 100\n",
    "alpha = 0.0025\n",
    "\n"
   ]
  },
  {
   "cell_type": "code",
   "execution_count": 19,
   "metadata": {},
   "outputs": [
    {
     "name": "stdout",
     "output_type": "stream",
     "text": [
      "Z-Score : 15.0\n"
     ]
    }
   ],
   "source": [
    "# Use the cell for calculating and using z-score as a measure of critical value\n",
    "z_score = (sample_mean-population_mean)/(population_std/np.sqrt(100))\n",
    "\n",
    "print('Z-Score :',z_score)"
   ]
  },
  {
   "cell_type": "code",
   "execution_count": 22,
   "metadata": {},
   "outputs": [
    {
     "name": "stdout",
     "output_type": "stream",
     "text": [
      "p-value : 0.0\n"
     ]
    }
   ],
   "source": [
    "# Use this cell for calculating and using the z-score for calculating the appropriate p-value\n",
    "z_score = (sample_mean-population_mean)/(population_std/np.sqrt(100))\n",
    "p_value = 1 - stats.norm.cdf(z_score)\n",
    " \n",
    "print('p-value :',p_value)\n",
    " "
   ]
  },
  {
   "cell_type": "markdown",
   "metadata": {},
   "source": [
    "### Two-Sample Z-Test\n"
   ]
  },
  {
   "cell_type": "code",
   "execution_count": 24,
   "metadata": {},
   "outputs": [],
   "source": [
    "# Given that we have the following two groups, use a z-test to determine if they are significantly different.\n",
    "# Group A (Coffee Drinkers), group size of 100, mean of 90, and standard deviation of 12\n",
    "# Group B (Non-Coffe Drinkers), group size of 110, mean of 75, and standard deviation of 10\n",
    "\n",
    "mean_coff = 90\n",
    "numb_coff = 100\n",
    "std_coff = 12\n",
    "\n",
    "mean_non = 75\n",
    "numb_non = 110\n",
    "std_non= 10 \n",
    "\n",
    "nullhyp = 0\n",
    "alpha = 0.05"
   ]
  },
  {
   "cell_type": "code",
   "execution_count": 26,
   "metadata": {},
   "outputs": [
    {
     "name": "stdout",
     "output_type": "stream",
     "text": [
      "Z-Score: 6.524542853160247\n",
      "Critical Z: 1.959963984540054\n"
     ]
    }
   ],
   "source": [
    "# Use this cell for calculating the z-score and comparing against the critical\n",
    "\n",
    "\n",
    "zscore2 = ((numb_coff - numb_non)- nullhyp) / np.sqrt((std_coff**2 / numb_coff) + (std_non**2 / numb_non))\n",
    "print(\"Z-Score:\",np.abs(zscore2))\n",
    "\n",
    "zcrit = stats.norm.ppf(1 - alpha/2)\n",
    "print('Critical Z:', zcrit)\n",
    "\n"
   ]
  },
  {
   "cell_type": "code",
   "execution_count": 28,
   "metadata": {},
   "outputs": [
    {
     "name": "stdout",
     "output_type": "stream",
     "text": [
      "P-Value: 0.9999999999658954\n"
     ]
    }
   ],
   "source": [
    "# Use this cell for calculating the p-value\n",
    "\n",
    "pvalue2 = 1 - stats.norm.cdf(zscore2)\n",
    "print(\"P-Value:\", pvalue2)"
   ]
  },
  {
   "cell_type": "markdown",
   "metadata": {},
   "source": [
    "### Debrief\n",
    "\n",
    "You might not know exactly what is going on in the code right now.\n",
    "\n",
    "In your groups, do some research on the individual functions and what they mean. Share your thoughts on what these functions are using and what concepts are new.\n",
    "\n",
    "How is the idea of what you did using the code related to what we discussed in class?\n",
    "\n",
    "To help with this idea, read: https://stackoverflow.com/questions/65468026/norm-ppf-vs-norm-cdf-in-pythons-scipy-stats "
   ]
  }
 ],
 "metadata": {
  "kernelspec": {
   "display_name": "base",
   "language": "python",
   "name": "python3"
  },
  "language_info": {
   "codemirror_mode": {
    "name": "ipython",
    "version": 3
   },
   "file_extension": ".py",
   "mimetype": "text/x-python",
   "name": "python",
   "nbconvert_exporter": "python",
   "pygments_lexer": "ipython3",
   "version": "3.11.4"
  },
  "orig_nbformat": 4
 },
 "nbformat": 4,
 "nbformat_minor": 2
}
